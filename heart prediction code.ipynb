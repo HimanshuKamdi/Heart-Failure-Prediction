{
 "cells": [
  {
   "cell_type": "code",
   "execution_count": 2,
   "metadata": {},
   "outputs": [],
   "source": [
    "import csv\n",
    "import numpy as np\n",
    "import pandas as pd\n",
    "from sklearn.model_selection import train_test_split\n",
    "from sklearn.linear_model import LinearRegression\n",
    "from sklearn.linear_model import LogisticRegression\n",
    "from sklearn.tree import DecisionTreeClassifier\n",
    "from sklearn.ensemble import RandomForestClassifier\n",
    "from sklearn.metrics import accuracy_score\n"
   ]
  },
  {
   "cell_type": "code",
   "execution_count": 3,
   "metadata": {},
   "outputs": [],
   "source": [
    "heart_data = pd.read_csv('C:/Users/himan/Desktop/Induction/DSAI Induction/HEART PREDICTION/heart_failure_train.csv')"
   ]
  },
  {
   "cell_type": "markdown",
   "metadata": {},
   "source": [
    "# Replacing categorical to numerical data\n"
   ]
  },
  {
   "cell_type": "code",
   "execution_count": 4,
   "metadata": {},
   "outputs": [],
   "source": [
    "heart_data['Sex'].replace({'M':0,'F':0},inplace=True)\n",
    "heart_data['ChestPainType'].replace({'NAP':0,'ASY':1,'ATA':1,'TA':2},inplace=True)\n",
    "heart_data['RestingECG'].replace({'Normal':0, 'LVH':2, 'ST':1},inplace=True)\n",
    "heart_data['ExerciseAngina'].replace({'N':0, 'Y':1},inplace=True)\n",
    "heart_data['ST_Slope'].replace({'Up':1, 'Flat':0, 'Down':1},inplace=True)"
   ]
  },
  {
   "cell_type": "code",
   "execution_count": 5,
   "metadata": {},
   "outputs": [],
   "source": [
    "X = heart_data.drop(columns='HeartDisease', axis=1)\n",
    "Y = heart_data['HeartDisease']"
   ]
  },
  {
   "cell_type": "code",
   "execution_count": 6,
   "metadata": {},
   "outputs": [],
   "source": [
    "X_train, X_test, Y_train, Y_test = train_test_split(X, Y, random_state = 2, test_size = 0.2)"
   ]
  },
  {
   "cell_type": "code",
   "execution_count": 7,
   "metadata": {},
   "outputs": [
    {
     "data": {
      "text/plain": [
       "LogisticRegression(max_iter=1000)"
      ]
     },
     "execution_count": 7,
     "metadata": {},
     "output_type": "execute_result"
    }
   ],
   "source": [
    "linear_model = LogisticRegression(max_iter=1000)\n",
    "linear_model.fit(X_train, Y_train)\n"
   ]
  },
  {
   "cell_type": "code",
   "execution_count": 8,
   "metadata": {},
   "outputs": [],
   "source": [
    "X_train_prediction = linear_model.predict(X_train)\n",
    "lineartraining_data_accuracy = accuracy_score(X_train_prediction, Y_train)\n",
    "X_test_prediction = linear_model.predict(X_test)\n",
    "lineartest_data_accuracy = accuracy_score(X_test_prediction, Y_test)"
   ]
  },
  {
   "cell_type": "code",
   "execution_count": 9,
   "metadata": {},
   "outputs": [
    {
     "name": "stdout",
     "output_type": "stream",
     "text": [
      "Linear_Model Accuracy on Training data :  0.8571428571428571\n",
      "Linear_Model Accuracy on Test data :  0.8428571428571429\n"
     ]
    }
   ],
   "source": [
    "print('Linear_Model Accuracy on Training data : ', lineartraining_data_accuracy)\n",
    "print('Linear_Model Accuracy on Test data : ', lineartest_data_accuracy)"
   ]
  },
  {
   "cell_type": "code",
   "execution_count": 10,
   "metadata": {},
   "outputs": [
    {
     "data": {
      "text/plain": [
       "DecisionTreeClassifier()"
      ]
     },
     "execution_count": 10,
     "metadata": {},
     "output_type": "execute_result"
    }
   ],
   "source": [
    "tree_model = DecisionTreeClassifier()\n",
    "tree_model.fit(X_train, Y_train)"
   ]
  },
  {
   "cell_type": "code",
   "execution_count": 11,
   "metadata": {},
   "outputs": [],
   "source": [
    "X_train_prediction = tree_model.predict(X_train)\n",
    "treetraining_data_accuracy = accuracy_score(X_train_prediction,Y_train,)\n",
    "X_test_prediction = tree_model.predict(X_test)\n",
    "treetest_data_accuracy = accuracy_score(X_test_prediction,Y_test)"
   ]
  },
  {
   "cell_type": "code",
   "execution_count": 12,
   "metadata": {},
   "outputs": [
    {
     "name": "stdout",
     "output_type": "stream",
     "text": [
      "Decision_Tree Accuracy on Training data :  1.0\n",
      "Decision_Tree Accuracy on Test data :  0.7285714285714285\n"
     ]
    }
   ],
   "source": [
    "print('Decision_Tree Accuracy on Training data : ', treetraining_data_accuracy)\n",
    "print('Decision_Tree Accuracy on Test data : ', treetest_data_accuracy)"
   ]
  },
  {
   "cell_type": "code",
   "execution_count": 13,
   "metadata": {},
   "outputs": [
    {
     "data": {
      "text/plain": [
       "RandomForestClassifier()"
      ]
     },
     "execution_count": 13,
     "metadata": {},
     "output_type": "execute_result"
    }
   ],
   "source": [
    "random_model = RandomForestClassifier()\n",
    "random_model.fit(X_train, Y_train)"
   ]
  },
  {
   "cell_type": "code",
   "execution_count": 14,
   "metadata": {},
   "outputs": [],
   "source": [
    "X_train_prediction = random_model.predict(X_train)\n",
    "randomtraining_data_accuracy = accuracy_score(X_train_prediction,Y_train,)\n",
    "X_test_prediction = random_model.predict(X_test)\n",
    "randomtest_data_accuracy = accuracy_score(X_test_prediction,Y_test)"
   ]
  },
  {
   "cell_type": "code",
   "execution_count": 15,
   "metadata": {},
   "outputs": [
    {
     "name": "stdout",
     "output_type": "stream",
     "text": [
      "Random_Forest Accuracy on Training data :  1.0\n",
      "Random_Forest Accuracy on Test data :  0.8428571428571429\n"
     ]
    }
   ],
   "source": [
    "print('Random_Forest Accuracy on Training data : ', randomtraining_data_accuracy)\n",
    "print('Random_Forest Accuracy on Test data : ', randomtest_data_accuracy)"
   ]
  },
  {
   "cell_type": "markdown",
   "metadata": {},
   "source": [
    "#Predicting using More Accurate Model\n"
   ]
  },
  {
   "cell_type": "code",
   "execution_count": 16,
   "metadata": {},
   "outputs": [
    {
     "data": {
      "text/plain": [
       "LogisticRegression(max_iter=1000)"
      ]
     },
     "execution_count": 16,
     "metadata": {},
     "output_type": "execute_result"
    }
   ],
   "source": [
    "linear_model = LogisticRegression(max_iter=1000)\n",
    "linear_model.fit(X_train.values, Y_train)\n"
   ]
  },
  {
   "cell_type": "code",
   "execution_count": 17,
   "metadata": {},
   "outputs": [],
   "source": [
    "f = open ('C:/Users/himan/Desktop/Induction/DSAI Induction/HEART PREDICTION/heart_failure_test.csv',\"r\")\n",
    "w = open ('C:/Users/himan/Desktop/Induction/DSAI Induction/HEART PREDICTION/SUBMISSION.csv',\"w\",newline='')"
   ]
  },
  {
   "cell_type": "code",
   "execution_count": 18,
   "metadata": {},
   "outputs": [],
   "source": [
    "sreader=csv.reader(f)\n",
    "writer=csv.writer(w)"
   ]
  },
  {
   "cell_type": "code",
   "execution_count": 19,
   "metadata": {},
   "outputs": [],
   "source": [
    "header=['Id','HeartDisease']\n",
    "writer.writerow(header)\n",
    "data=[]\n",
    "count=0"
   ]
  },
  {
   "cell_type": "code",
   "execution_count": null,
   "metadata": {},
   "outputs": [],
   "source": [
    "for i in sreader:    \n",
    "    count+=1\n",
    "    if count>1:\n",
    "        input_data=list(float(x) for x in i)              \n",
    "        input_data_as_numpy_array= np.asarray(input_data)\n",
    "        input_data_reshaped = input_data_as_numpy_array.reshape(1,-1)  \n",
    "        prediction = linear_model.predict(input_data_reshaped)\n",
    "        p=int(prediction)\n",
    "        data=[count-1,p]\n",
    "        writer.writerow(data)"
   ]
  }
 ],
 "metadata": {
  "interpreter": {
   "hash": "53a5615fb490a871e060c42b603f3936825bb65ca009fb1ddc773fd460c1d72b"
  },
  "kernelspec": {
   "display_name": "Python 3.10.0 64-bit",
   "language": "python",
   "name": "python3"
  },
  "language_info": {
   "codemirror_mode": {
    "name": "ipython",
    "version": 3
   },
   "file_extension": ".py",
   "mimetype": "text/x-python",
   "name": "python",
   "nbconvert_exporter": "python",
   "pygments_lexer": "ipython3",
   "version": "3.10.0"
  },
  "orig_nbformat": 4
 },
 "nbformat": 4,
 "nbformat_minor": 2
}
